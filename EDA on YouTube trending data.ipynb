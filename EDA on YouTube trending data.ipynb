{
 "cells": [
  {
   "cell_type": "markdown",
   "id": "e76d512e",
   "metadata": {},
   "source": [
    "Author - AnilKumar Vempadapu\n",
    "\n",
    "This project is to perform EDA on the trending YouTube videos data in India using python\n",
    "\n",
    "Data is obtained at - \"https://www.kaggle.com/datasets/datasnaek/youtube-new?resource=download&select=INvideos.csv\""
   ]
  },
  {
   "cell_type": "markdown",
   "id": "5e59ea65",
   "metadata": {},
   "source": [
    "#### Step 1: Read data into data frame using pandas"
   ]
  },
  {
   "cell_type": "code",
   "execution_count": 1,
   "id": "18378222",
   "metadata": {},
   "outputs": [],
   "source": [
    "import pandas as pd\n",
    "india_df = pd.read_csv(\"INvideos.csv\")"
   ]
  },
  {
   "cell_type": "markdown",
   "id": "aca4a704",
   "metadata": {},
   "source": [
    "#### Step 2: Description of data set"
   ]
  },
  {
   "cell_type": "code",
   "execution_count": 2,
   "id": "4ff6aa76",
   "metadata": {},
   "outputs": [
    {
     "name": "stdout",
     "output_type": "stream",
     "text": [
      "Number of samples in data - 37352\n",
      "Features of the data - \n",
      "video_id\n",
      "trending_date\n",
      "title\n",
      "channel_title\n",
      "category_id\n",
      "publish_time\n",
      "tags\n",
      "views\n",
      "likes\n",
      "dislikes\n",
      "comment_count\n",
      "thumbnail_link\n",
      "comments_disabled\n",
      "ratings_disabled\n",
      "video_error_or_removed\n",
      "description\n"
     ]
    }
   ],
   "source": [
    "n_samples = india_df.shape[0]\n",
    "print(\"Number of samples in data -\",n_samples)\n",
    "print(\"Features of the data - \")\n",
    "for feature in india_df.columns:\n",
    "    print(feature)"
   ]
  },
  {
   "cell_type": "markdown",
   "id": "ad3ca92a",
   "metadata": {},
   "source": [
    "#### Step 3: removal of NAN entries or missing data"
   ]
  },
  {
   "cell_type": "code",
   "execution_count": 3,
   "id": "9ad57d4f",
   "metadata": {},
   "outputs": [
    {
     "name": "stdout",
     "output_type": "stream",
     "text": [
      "That's great! No sample has missing data..!!\n"
     ]
    }
   ],
   "source": [
    "india_df.dropna()\n",
    "\n",
    "if n_samples-india_df.shape[0] > 0:\n",
    "    print(\"Number of samples removed due to missing data -\",n_samples-india_df.shape[0])\n",
    "else:\n",
    "    print(\"That's great! No sample has missing data..!!\")"
   ]
  },
  {
   "cell_type": "markdown",
   "id": "8409d456",
   "metadata": {},
   "source": [
    "#### Step 4: adding category from the Json file"
   ]
  },
  {
   "cell_type": "code",
   "execution_count": 4,
   "id": "af77a651",
   "metadata": {},
   "outputs": [],
   "source": [
    "import json\n",
    "\n",
    "categories_dict = {}\n",
    "with open('In_category_id.json', 'r') as f:\n",
    "    d = json.load(f)\n",
    "    for category in d['items']:\n",
    "        categories_dict[category['id']] = category['snippet']['title']\n",
    "\n",
    "#change dictionary key from string to int\n",
    "cat_dict = {int(key):categories_dict[key] for key in categories_dict.keys()}\n",
    "\n",
    "india_df[\"category\"] = india_df[\"category_id\"].map(cat_dict)\n",
    "\n",
    "# print(india_df)"
   ]
  },
  {
   "cell_type": "markdown",
   "id": "3609c3b3",
   "metadata": {},
   "source": [
    "####  Observation 1: identifying the data timeline range"
   ]
  },
  {
   "cell_type": "code",
   "execution_count": 5,
   "id": "545e7b7a",
   "metadata": {},
   "outputs": [
    {
     "name": "stdout",
     "output_type": "stream",
     "text": [
      "Data is collected from 2017-05-27 to 2018-06-13\n"
     ]
    }
   ],
   "source": [
    "import datetime\n",
    "india_df['publish_time'] = pd.to_datetime(india_df['publish_time']).dt.date\n",
    "start_date = india_df[\"publish_time\"].min()\n",
    "end_date = india_df[\"publish_time\"].max()\n",
    "\n",
    "print(\"Data is collected from\", start_date, \"to\", end_date)"
   ]
  },
  {
   "cell_type": "markdown",
   "id": "648ed55b",
   "metadata": {},
   "source": [
    "#### Observation 2: Analysis based on views, likes and dislikes"
   ]
  },
  {
   "cell_type": "code",
   "execution_count": 6,
   "id": "7c8c2f1c",
   "metadata": {},
   "outputs": [
    {
     "name": "stdout",
     "output_type": "stream",
     "text": [
      "Details of the most viewed video in the data is - \n",
      "Title - YouTube Rewind: The Shape of 2017 | #YouTubeRewind\n",
      "Youtube channel - YouTube Spotlight\n",
      "Description of video - YouTube Rewind 2017. Celebrating the videos, people, music and memes that made 2017. #YouTubeRewind\\n\\nMeet the featured Creators in Rewind: https://rewind2017.withyoutube.com/creators\\nSpend more time with your favorite Creators, videos and trends from 2017: https://yt.be/rewind2017\\nTest your Rewind knowledge with our trivia game: http://yt.be/dejaview\\n\\nWatch trending videos from 2017: http://youtube.com/rewind\\nSee the trends as they happen: http://youtube.com/trending\\n\\nWatch the Behind the Scenes video: https://youtu.be/OIQQ8jmsbMM  \\nSee all the Easter Eggs: https://goo.gl/3U9otg\\n\\nMusic by The Hood Internet: https://www.youtube.com/thehoodinternet\\n\\nYouTube Rewind 2017 produced by Portal A\n",
      "Number of views are 125432237\n"
     ]
    }
   ],
   "source": [
    "most_views = india_df[\"views\"].max()\n",
    "most_viewed_video = india_df[india_df[\"views\"]==most_views].to_dict(orient='records')[0]\n",
    "\n",
    "print(\"Details of the most viewed video in the data is - \")\n",
    "print(\"Title -\", most_viewed_video[\"title\"])\n",
    "print(\"Youtube channel -\", most_viewed_video[\"channel_title\"])\n",
    "print(\"Description of video -\", most_viewed_video[\"description\"])\n",
    "print(\"Number of views are \" + str(most_viewed_video[\"views\"]))"
   ]
  },
  {
   "cell_type": "code",
   "execution_count": 7,
   "id": "838d4f98",
   "metadata": {},
   "outputs": [
    {
     "name": "stdout",
     "output_type": "stream",
     "text": [
      "Details of the most liked video in the data is - \n",
      "Title - YouTube Rewind: The Shape of 2017 | #YouTubeRewind\n",
      "Youtube channel - YouTube Spotlight\n",
      "Description of video - YouTube Rewind 2017. Celebrating the videos, people, music and memes that made 2017. #YouTubeRewind\\n\\nMeet the featured Creators in Rewind: https://rewind2017.withyoutube.com/creators\\nSpend more time with your favorite Creators, videos and trends from 2017: https://yt.be/rewind2017\\nTest your Rewind knowledge with our trivia game: http://yt.be/dejaview\\n\\nWatch trending videos from 2017: http://youtube.com/rewind\\nSee the trends as they happen: http://youtube.com/trending\\n\\nWatch the Behind the Scenes video: https://youtu.be/OIQQ8jmsbMM  \\nSee all the Easter Eggs: https://goo.gl/3U9otg\\n\\nMusic by The Hood Internet: https://www.youtube.com/thehoodinternet\\n\\nYouTube Rewind 2017 produced by Portal A\n",
      "Number of views are 125432237 and the number of likes are 2912710\n"
     ]
    }
   ],
   "source": [
    "most_likes = india_df[\"likes\"].max()\n",
    "most_liked_video = india_df[india_df[\"likes\"]==most_likes].to_dict(orient='records')[0]\n",
    "\n",
    "print(\"Details of the most liked video in the data is - \")\n",
    "print(\"Title -\", most_liked_video[\"title\"])\n",
    "print(\"Youtube channel -\", most_liked_video[\"channel_title\"])\n",
    "print(\"Description of video -\", most_liked_video[\"description\"])\n",
    "print(\"Number of views are \" + str(most_liked_video[\"views\"]) + \" and the number of likes are \" + str(most_liked_video[\"likes\"]))"
   ]
  },
  {
   "cell_type": "code",
   "execution_count": 8,
   "id": "d3efbf30",
   "metadata": {},
   "outputs": [
    {
     "name": "stdout",
     "output_type": "stream",
     "text": [
      "Details of the most disliked video in the data is - \n",
      "Title - YouTube Rewind: The Shape of 2017 | #YouTubeRewind\n",
      "Youtube channel - YouTube Spotlight\n",
      "Description of video - YouTube Rewind 2017. Celebrating the videos, people, music and memes that made 2017. #YouTubeRewind\\n\\nMeet the featured Creators in Rewind: https://rewind2017.withyoutube.com/creators\\nSpend more time with your favorite Creators, videos and trends from 2017: https://yt.be/rewind2017\\nTest your Rewind knowledge with our trivia game: http://yt.be/dejaview\\n\\nWatch trending videos from 2017: http://youtube.com/rewind\\nSee the trends as they happen: http://youtube.com/trending\\n\\nWatch the Behind the Scenes video: https://youtu.be/OIQQ8jmsbMM  \\nSee all the Easter Eggs: https://goo.gl/3U9otg\\n\\nMusic by The Hood Internet: https://www.youtube.com/thehoodinternet\\n\\nYouTube Rewind 2017 produced by Portal A\n",
      "Number of views are 125432237 and the number of dislikes are 1545017\n"
     ]
    }
   ],
   "source": [
    "most_dislikes = india_df[\"dislikes\"].max()\n",
    "most_disliked_video = india_df[india_df[\"dislikes\"]==most_dislikes].to_dict(orient='records')[0]\n",
    "\n",
    "print(\"Details of the most disliked video in the data is - \")\n",
    "print(\"Title -\", most_disliked_video[\"title\"])\n",
    "print(\"Youtube channel -\", most_disliked_video[\"channel_title\"])\n",
    "print(\"Description of video -\", most_disliked_video[\"description\"])\n",
    "print(\"Number of views are \" + str(most_disliked_video[\"views\"]) + \" and the number of dislikes are \" + str(most_disliked_video[\"dislikes\"]))"
   ]
  },
  {
   "cell_type": "markdown",
   "id": "38186170",
   "metadata": {},
   "source": [
    "##### It is interesting to note that the video that has the highest number of views and likes also has the highest number of dislikes!!"
   ]
  },
  {
   "cell_type": "markdown",
   "id": "0269f6fd",
   "metadata": {},
   "source": [
    "#### Observation 5: Categorywise analysis"
   ]
  },
  {
   "cell_type": "code",
   "execution_count": 9,
   "id": "81342621",
   "metadata": {},
   "outputs": [],
   "source": [
    "categdf = india_df.groupby('category').agg(\"count\")[\"video_id\"]\n",
    "categdf = categdf.rename('Number of Videos')"
   ]
  },
  {
   "cell_type": "code",
   "execution_count": 10,
   "id": "d672b378",
   "metadata": {},
   "outputs": [
    {
     "name": "stdout",
     "output_type": "stream",
     "text": [
      "The category in which the maximum number of vidoes uploaded is - Entertainment with 16712 videos out of total 37247 videos!\n",
      "The category in which the minimum number of vidoes uploaded is - Pets & Animals with 3 videos out of total 37247 videos!\n"
     ]
    }
   ],
   "source": [
    "print(\"The category in which the maximum number of vidoes uploaded is - \"\n",
    "      + categdf.idxmax() + \" with \" + str(categdf.max()) + \" videos out of total \" + str(categdf.sum()) + \" videos!\")\n",
    "\n",
    "print(\"The category in which the minimum number of vidoes uploaded is - \"\n",
    "      + categdf.idxmin() + \" with \" + str(categdf.min()) + \" videos out of total \" + str(categdf.sum()) + \" videos!\")"
   ]
  },
  {
   "cell_type": "code",
   "execution_count": 11,
   "id": "1483d425",
   "metadata": {},
   "outputs": [
    {
     "data": {
      "text/plain": [
       "<AxesSubplot:xlabel='Number of Videos', ylabel='category'>"
      ]
     },
     "execution_count": 11,
     "metadata": {},
     "output_type": "execute_result"
    },
    {
     "data": {
      "image/png": "[encoded data removed]",
      "text/plain": [
       "<Figure size 432x288 with 1 Axes>"
      ]
     },
     "metadata": {
      "needs_background": "light"
     },
     "output_type": "display_data"
    }
   ],
   "source": [
    "import seaborn as sns\n",
    "sns.barplot(x=categdf, y=categdf.index)"
   ]
  },
  {
   "cell_type": "markdown",
   "id": "fd1a90ad",
   "metadata": {},
   "source": [
    "##### The most number of videos uploaded in India are in enetrtainment (roughly 45% of number of videos) followed by News-politics (14%) and Music (10%), whereas the least number of videos uploaded are in Pets & Animals."
   ]
  },
  {
   "cell_type": "code",
   "execution_count": 12,
   "id": "5232f911",
   "metadata": {},
   "outputs": [],
   "source": [
    "viewsdf = india_df.groupby('category')['views'].agg('sum')"
   ]
  },
  {
   "cell_type": "code",
   "execution_count": 13,
   "id": "e8c2c706",
   "metadata": {},
   "outputs": [
    {
     "name": "stdout",
     "output_type": "stream",
     "text": [
      "The category which has the maximum number of total views is - Entertainment with 16120390974 views out of total 39604345873 views!\n",
      "The category which has the minimum number of total views is - Travel & Events with 1374342 views out of total 39604345873 views!\n"
     ]
    }
   ],
   "source": [
    "print(\"The category which has the maximum number of total views is - \"\n",
    "      + viewsdf.idxmax() + \" with \" + str(viewsdf.max()) + \" views out of total \" + str(viewsdf.sum()) + \" views!\")\n",
    "\n",
    "print(\"The category which has the minimum number of total views is - \"\n",
    "      + viewsdf.idxmin() + \" with \" + str(viewsdf.min()) + \" views out of total \" + str(viewsdf.sum()) + \" views!\")"
   ]
  },
  {
   "cell_type": "code",
   "execution_count": 14,
   "id": "b2a34a3b",
   "metadata": {},
   "outputs": [
    {
     "data": {
      "text/plain": [
       "<AxesSubplot:xlabel='views', ylabel='category'>"
      ]
     },
     "execution_count": 14,
     "metadata": {},
     "output_type": "execute_result"
    },
    {
     "data": {
      "image/png": "[encoded data removed]",
      "text/plain": [
       "<Figure size 432x288 with 1 Axes>"
      ]
     },
     "metadata": {
      "needs_background": "light"
     },
     "output_type": "display_data"
    }
   ],
   "source": [
    "sns.barplot(x=viewsdf, y=viewsdf.index)"
   ]
  },
  {
   "cell_type": "markdown",
   "id": "e25ad44e",
   "metadata": {},
   "source": [
    "##### The most number of viewed videos in India are in enetrtainment (roughly 41% of number of views) followed by Music (26%), whereas the least viewed videos are in Travel & Events."
   ]
  },
  {
   "cell_type": "code",
   "execution_count": 15,
   "id": "bc37a075",
   "metadata": {},
   "outputs": [],
   "source": [
    "nv_view_df = pd.concat([categdf,viewsdf],axis=1)\n",
    "nv_view_df[\"Views per video\"] = nv_view_df[\"views\"]/nv_view_df[\"Number of Videos\"]"
   ]
  },
  {
   "cell_type": "code",
   "execution_count": 16,
   "id": "fee67c40",
   "metadata": {},
   "outputs": [
    {
     "name": "stdout",
     "output_type": "stream",
     "text": [
      "The category which has the maximum number of views per video is - Gaming!! with a total of 274722506 views for 66 videos with an average of 4162462 views per video!\n",
      "The category which has the minimum number of views per video is - Education!! with a total of 145533791 views for 1227 videos with an average of 118609 views per video!\n"
     ]
    }
   ],
   "source": [
    "maxview_cat = nv_view_df[\"Views per video\"].idxmax()\n",
    "print(\"The category which has the maximum number of views per video is - \"\n",
    "      + maxview_cat + \"!! with a total of \" + str(viewsdf[maxview_cat]) + \" views for \" + str(categdf[maxview_cat]) + \n",
    "     \" videos with an average of \" + str(round(nv_view_df[\"Views per video\"].max())) + \" views per video!\")\n",
    "\n",
    "\n",
    "minview_cat = nv_view_df[\"Views per video\"].idxmin()\n",
    "print(\"The category which has the minimum number of views per video is - \"\n",
    "      + minview_cat + \"!! with a total of \" + str(viewsdf[minview_cat]) + \" views for \" + str(categdf[minview_cat]) + \n",
    "     \" videos with an average of \" + str(round(nv_view_df[\"Views per video\"].min())) + \" views per video!\")"
   ]
  },
  {
   "cell_type": "code",
   "execution_count": 17,
   "id": "8d33abb6",
   "metadata": {},
   "outputs": [
    {
     "data": {
      "text/plain": [
       "<AxesSubplot:xlabel='Views per video', ylabel='category'>"
      ]
     },
     "execution_count": 17,
     "metadata": {},
     "output_type": "execute_result"
    },
    {
     "data": {
      "image/png": "[encoded data removed]",
      "text/plain": [
       "<Figure size 432x288 with 1 Axes>"
      ]
     },
     "metadata": {
      "needs_background": "light"
     },
     "output_type": "display_data"
    }
   ],
   "source": [
    "sns.barplot(x=nv_view_df[\"Views per video\"], y=viewsdf.index)"
   ]
  },
  {
   "cell_type": "markdown",
   "id": "51990e27",
   "metadata": {},
   "source": [
    "##### Gaming videos seems to be more popular in India with an average of 4M views per video, followed by Movies with an average of 3M views per video whereas Education videos seems to be the least popular with an avergae of 0.12M views per video."
   ]
  },
  {
   "cell_type": "code",
   "execution_count": 18,
   "id": "f526fd68",
   "metadata": {},
   "outputs": [],
   "source": [
    "likesdf = india_df.groupby('category')['likes'].agg('sum')"
   ]
  },
  {
   "cell_type": "code",
   "execution_count": 19,
   "id": "5fdafa6a",
   "metadata": {},
   "outputs": [
    {
     "name": "stdout",
     "output_type": "stream",
     "text": [
      "The category which has the maximum number of total likes is - Entertainment with 396146637 likes out of total 1011375558 likes!\n",
      "The category which has the minimum number of total likes is - Travel & Events with 16939 likes out of total 1011375558 likes!\n"
     ]
    }
   ],
   "source": [
    "print(\"The category which has the maximum number of total likes is - \"\n",
    "      + likesdf.idxmax() + \" with \" + str(likesdf.max()) + \" likes out of total \" + str(likesdf.sum()) + \" likes!\")\n",
    "\n",
    "print(\"The category which has the minimum number of total likes is - \"\n",
    "      + likesdf.idxmin() + \" with \" + str(likesdf.min()) + \" likes out of total \" + str(likesdf.sum()) + \" likes!\")"
   ]
  },
  {
   "cell_type": "code",
   "execution_count": 20,
   "id": "2bbdd0da",
   "metadata": {},
   "outputs": [
    {
     "data": {
      "text/plain": [
       "<AxesSubplot:xlabel='likes', ylabel='category'>"
      ]
     },
     "execution_count": 20,
     "metadata": {},
     "output_type": "execute_result"
    },
    {
     "data": {
      "image/png": "[encoded data removed]",
      "text/plain": [
       "<Figure size 432x288 with 1 Axes>"
      ]
     },
     "metadata": {
      "needs_background": "light"
     },
     "output_type": "display_data"
    }
   ],
   "source": [
    "sns.barplot(x=likesdf, y=likesdf.index)"
   ]
  },
  {
   "cell_type": "code",
   "execution_count": 21,
   "id": "319c32e4",
   "metadata": {},
   "outputs": [],
   "source": [
    "like_view_df = pd.concat([likesdf,viewsdf],axis=1)\n",
    "like_view_df[\"Likes per view\"] = like_view_df[\"likes\"]/like_view_df[\"views\"]"
   ]
  },
  {
   "cell_type": "code",
   "execution_count": 22,
   "id": "30329e49",
   "metadata": {},
   "outputs": [
    {
     "name": "stdout",
     "output_type": "stream",
     "text": [
      "The category which has the maximum number of likes per view is - Pets & Animals!! with a total of 362534 likes for 4879743 views with a percentage of 7.43% likes!\n",
      "The category which has the minimum number of likes per view is - Shows!! with a total of 787516 likes for 139581891 views with a percentage of 0.56% likes!\n"
     ]
    }
   ],
   "source": [
    "maxlikeview_cat = like_view_df[\"Likes per view\"].idxmax()\n",
    "print(\"The category which has the maximum number of likes per view is - \"\n",
    "      + maxlikeview_cat + \"!! with a total of \" + str(likesdf[maxlikeview_cat]) + \" likes for \" + str(viewsdf[maxlikeview_cat]) + \n",
    "     \" views with a percentage of \" + str(round(100*like_view_df[\"Likes per view\"].max(),2)) + \"% likes!\")\n",
    "\n",
    "minlikeview_cat = like_view_df[\"Likes per view\"].idxmin()\n",
    "print(\"The category which has the minimum number of likes per view is - \"\n",
    "      + minlikeview_cat + \"!! with a total of \" + str(likesdf[minlikeview_cat]) + \" likes for \" + str(viewsdf[minlikeview_cat]) + \n",
    "     \" views with a percentage of \" + str(round(100*(like_view_df[\"Likes per view\"].min()),2)) + \"% likes!\")"
   ]
  },
  {
   "cell_type": "code",
   "execution_count": 23,
   "id": "c36a10b9",
   "metadata": {},
   "outputs": [
    {
     "data": {
      "text/plain": [
       "<AxesSubplot:xlabel='Likes per view', ylabel='category'>"
      ]
     },
     "execution_count": 23,
     "metadata": {},
     "output_type": "execute_result"
    },
    {
     "data": {
      "image/png": "[encoded data removed]",
      "text/plain": [
       "<Figure size 432x288 with 1 Axes>"
      ]
     },
     "metadata": {
      "needs_background": "light"
     },
     "output_type": "display_data"
    }
   ],
   "source": [
    "sns.barplot(x=like_view_df[\"Likes per view\"], y=like_view_df.index)"
   ]
  },
  {
   "cell_type": "markdown",
   "id": "56173123",
   "metadata": {},
   "source": [
    "##### Pets-Animals videos seems to be more liked in India with 7 likes out of every 100 views, followed by Comedy and Education with 6 and 5 likes per 100 views whereas Shows seems to be least liked with 5 likes out of every 1000 views"
   ]
  },
  {
   "cell_type": "code",
   "execution_count": 24,
   "id": "69558917",
   "metadata": {},
   "outputs": [],
   "source": [
    "dislikesdf = india_df.groupby('category')['dislikes'].agg('sum')"
   ]
  },
  {
   "cell_type": "code",
   "execution_count": 25,
   "id": "2424cbc9",
   "metadata": {},
   "outputs": [
    {
     "name": "stdout",
     "output_type": "stream",
     "text": [
      "The category which has the maximum number of total dislikes is - Entertainment with 27428929 dislikes out of total 62185412 dislikes!\n",
      "The category which has the minimum number of total dislikes is - Travel & Events with 616 dislikes out of total 62185412 dislikes!\n"
     ]
    }
   ],
   "source": [
    "print(\"The category which has the maximum number of total dislikes is - \"\n",
    "      + dislikesdf.idxmax() + \" with \" + str(dislikesdf.max()) + \" dislikes out of total \" + str(dislikesdf.sum()) + \" dislikes!\")\n",
    "\n",
    "print(\"The category which has the minimum number of total dislikes is - \"\n",
    "      + dislikesdf.idxmin() + \" with \" + str(dislikesdf.min()) + \" dislikes out of total \" + str(dislikesdf.sum()) + \" dislikes!\")"
   ]
  },
  {
   "cell_type": "markdown",
   "id": "8d6cf412",
   "metadata": {},
   "source": [
    "##### Surprisingly the categories which have the most and least likes i.e. Entertainment and Travel-Events are also the categories with most and least dislikes!!"
   ]
  },
  {
   "cell_type": "code",
   "execution_count": 26,
   "id": "a7b026f1",
   "metadata": {},
   "outputs": [],
   "source": [
    "like_dislike_df = pd.concat([likesdf,dislikesdf],axis=1)\n",
    "like_dislike_df[\"Dislikes to likes ratio\"] = like_dislike_df[\"dislikes\"]/like_dislike_df[\"likes\"]"
   ]
  },
  {
   "cell_type": "code",
   "execution_count": 27,
   "id": "30efa1ad",
   "metadata": {},
   "outputs": [
    {
     "data": {
      "text/plain": [
       "<AxesSubplot:xlabel='Dislikes to likes ratio', ylabel='category'>"
      ]
     },
     "execution_count": 27,
     "metadata": {},
     "output_type": "execute_result"
    },
    {
     "data": {
      "image/png": "[encoded data removed]",
      "text/plain": [
       "<Figure size 432x288 with 1 Axes>"
      ]
     },
     "metadata": {
      "needs_background": "light"
     },
     "output_type": "display_data"
    }
   ],
   "source": [
    "sns.barplot(x=like_dislike_df[\"Dislikes to likes ratio\"], y=like_dislike_df.index)"
   ]
  },
  {
   "cell_type": "markdown",
   "id": "eab72829",
   "metadata": {},
   "source": [
    "##### Videos under Shows category have the most dislikes to likes ratio (29 dislikes for every 100 likes) followed by News-politics (17 dislikes for every 100likes)! "
   ]
  },
  {
   "cell_type": "markdown",
   "id": "a4ddb4c9",
   "metadata": {},
   "source": [
    "#### Obervation 6: Brief analysis on Entertainment based videos"
   ]
  },
  {
   "cell_type": "code",
   "execution_count": 28,
   "id": "9dad2df5",
   "metadata": {},
   "outputs": [],
   "source": [
    "entertnmnt_df = india_df[india_df['category']=='Entertainment']"
   ]
  },
  {
   "cell_type": "code",
   "execution_count": 29,
   "id": "d99e61f2",
   "metadata": {},
   "outputs": [
    {
     "name": "stdout",
     "output_type": "stream",
     "text": [
      "The channel which has the maximum number of total views in Entertainment is - Marvel Entertainment with 1277657898 views out of total 16120390974 views!\n"
     ]
    }
   ],
   "source": [
    "entertnmnt_channel_views = entertnmnt_df.groupby('channel_title')['views'].agg('sum')\n",
    "print(\"The channel which has the maximum number of total views in Entertainment is - \"\n",
    "      + entertnmnt_channel_views.idxmax() + \" with \" + str(entertnmnt_channel_views.max()) + \n",
    "      \" views out of total \" + str(entertnmnt_channel_views.sum()) + \" views!\")"
   ]
  },
  {
   "cell_type": "code",
   "execution_count": 30,
   "id": "86e65c9b",
   "metadata": {
    "scrolled": true
   },
   "outputs": [
    {
     "name": "stdout",
     "output_type": "stream",
     "text": [
      "The channel which has the maximum number of total likes in Entertainment is - Amit Bhadana with 62418215 likes out of total 396146637 likes!\n"
     ]
    }
   ],
   "source": [
    "entertnmnt_channel_likes = entertnmnt_df.groupby('channel_title')['likes'].agg('sum')\n",
    "print(\"The channel which has the maximum number of total likes in Entertainment is - \"\n",
    "      + entertnmnt_channel_likes.idxmax() + \" with \" + str(entertnmnt_channel_likes.max()) + \n",
    "      \" likes out of total \" + str(entertnmnt_channel_likes.sum()) + \" likes!\")"
   ]
  },
  {
   "cell_type": "markdown",
   "id": "6c5d26af",
   "metadata": {},
   "source": [
    "##### Marvel Entertainment seems to own the major viewership (with 8% views), whereas Amit Bhadana is the most liked channel (with 15% likes) in Entertainment channels."
   ]
  },
  {
   "cell_type": "markdown",
   "id": "2b77ccfe",
   "metadata": {},
   "source": [
    "#### Obervation 7: Brief analysis on News and politics based videos"
   ]
  },
  {
   "cell_type": "code",
   "execution_count": 31,
   "id": "5b450b75",
   "metadata": {},
   "outputs": [],
   "source": [
    "news_df = india_df[india_df['category']=='News & Politics']"
   ]
  },
  {
   "cell_type": "code",
   "execution_count": 34,
   "id": "08e5d36b",
   "metadata": {},
   "outputs": [
    {
     "name": "stdout",
     "output_type": "stream",
     "text": [
      "Details of the most viewed news video in the data is - \n",
      "Title - No VIP treatment for Salman Khan in jail: Jodhpur DIG (Prisons)\n",
      "Youtube channel - The Times of India\n",
      "Description of video - Bollywood actor Salman Khan, who was convicted and sentenced to five years imprisonment in blackbuck poaching case by a court, will not receive any special treatment during his stay in jail, Jodhpur DIG (Prisons) Vikram Singh said. Singh added that Khan had made no demands or special requests - including for drinking water. The actor will receive his jail uniform tomorrow. The senior officer said that he did not want the actor to be left alone, even as he referred to him as someone ‘who does not seem easily scared.’\\n\\nSubscribe to Times Of India's Youtube channel here: http://goo.gl/WgIatu\\n\\nAlso Subscribe to Bombay Times Youtube Channel here: http://goo.gl/AdXcgU\\n\\nSocial Media Links: \\nFacebook : https://www.facebook.com/TimesofIndia\\nTwitter : https://twitter.com/timesofindia\\nGoogle + : https://plus.google.com/u/0/+timesindia/posts\n",
      "Number of views are 11510500\n"
     ]
    }
   ],
   "source": [
    "maxview_news = news_df[\"views\"].max()\n",
    "maxview_news_video = news_df[news_df[\"views\"]==maxview_news].to_dict(orient='records')[0]\n",
    "\n",
    "print(\"Details of the most viewed news video in the data is - \")\n",
    "print(\"Title -\", maxview_news_video[\"title\"])\n",
    "print(\"Youtube channel -\", maxview_news_video[\"channel_title\"])\n",
    "print(\"Description of video -\", maxview_news_video[\"description\"])\n",
    "print(\"Number of views are \" + str(maxview_news_video[\"views\"]))"
   ]
  },
  {
   "cell_type": "code",
   "execution_count": 32,
   "id": "4b302043",
   "metadata": {},
   "outputs": [
    {
     "name": "stdout",
     "output_type": "stream",
     "text": [
      "The channel which has the maximum number of total views in News-Politics is - V6 News Telugu with 87224720 views out of total 1994263812 views!\n"
     ]
    }
   ],
   "source": [
    "news_channel_views = news_df.groupby('channel_title')['views'].agg('sum')\n",
    "print(\"The channel which has the maximum number of total views in News-Politics is - \"\n",
    "      + news_channel_views.idxmax() + \" with \" + str(news_channel_views.max()) + \n",
    "      \" views out of total \" + str(news_channel_views.sum()) + \" views!\")"
   ]
  },
  {
   "cell_type": "code",
   "execution_count": 38,
   "id": "e7dfef3b",
   "metadata": {},
   "outputs": [
    {
     "name": "stdout",
     "output_type": "stream",
     "text": [
      "The channel which has the maximum number of total dislikes in News-Politics is - ABN Telugu with 223891 dislikes out of total 2737604 dislikes!\n"
     ]
    }
   ],
   "source": [
    "news_channel_dislikes = news_df.groupby('channel_title')['dislikes'].agg('sum')\n",
    "print(\"The channel which has the maximum number of total dislikes in News-Politics is - \"\n",
    "      + news_channel_dislikes.idxmax() + \" with \" + str(news_channel_dislikes.max()) + \n",
    "      \" dislikes out of total \" + str(news_channel_dislikes.sum()) + \" dislikes!\")"
   ]
  },
  {
   "cell_type": "code",
   "execution_count": 47,
   "id": "b33502c1",
   "metadata": {},
   "outputs": [
    {
     "name": "stdout",
     "output_type": "stream",
     "text": [
      "Number of news channels that has more than one dislike for every like - 8\n",
      "Channel which has the highest dislike to like ration is - Sakshi TV with an average of 2.207 dislikes for every like\n"
     ]
    }
   ],
   "source": [
    "news_channel_likes = news_df.groupby('channel_title')['likes'].agg('sum')\n",
    "news_dislike_to_like_ratio = news_channel_dislikes/news_channel_likes\n",
    "\n",
    "print(\"Number of news channels that has more than one dislike for every like - \" +\n",
    "      str(len(news_dislike_to_like_ratio[news_dislike_to_like_ratio>1])))\n",
    "print(\"Channel which has the highest dislike to like ration is - \" + news_dislike_to_like_ratio.idxmax() + \n",
    "     \" with an average of \" + str(round(news_dislike_to_like_ratio.max(),3)) + \" dislikes for every like!\")"
   ]
  },
  {
   "cell_type": "markdown",
   "id": "2e4b76f2",
   "metadata": {},
   "source": [
    "##### No VIP treatment for Salman Khan in jail: Jodhpur DIG (Prisons) by The Times of India is the most viewed video in news category \\{\\n} V6 News Telugu seems to have the most viewership in India.\n",
    "\n",
    "There exists 8 channels in News & Politics category which has more than 1 dislike for every like and Sakshi TV is the most hated channel with an average of 2.207 dislikes for every like!!"
   ]
  },
  {
   "cell_type": "markdown",
   "id": "7a7d2cbe",
   "metadata": {},
   "source": [
    "#### Obervation 8: Brief analysis on Sports based videos"
   ]
  },
  {
   "cell_type": "code",
   "execution_count": 48,
   "id": "5efd879c",
   "metadata": {},
   "outputs": [],
   "source": [
    "sports_df = india_df[india_df['category']=='Sports']"
   ]
  },
  {
   "cell_type": "code",
   "execution_count": 49,
   "id": "11267532",
   "metadata": {},
   "outputs": [
    {
     "name": "stdout",
     "output_type": "stream",
     "text": [
      "Details of the most viewed sports video in the data is - \n",
      "Title - Real Life Trick Shots 2 | Dude Perfect\n",
      "Youtube channel - Dude Perfect\n",
      "Description of video - Trick shots should be an everyday thing! \\nThanks to Kay Jewelers for sponsoring this video! \\nWin Valentine's Day by going to http://dudeperfect.com/KayJewelers\\n\\n► Click HERE to subscribe to Dude Perfect! http://bit.ly/SubDudePerfect\\n\\n► Click HERE to watch our most recent videos! http://bit.ly/NewestDudePerfectVideos\\nhttp://bit.ly/NewestDPVideos\\n\\n► SHOP our NEW Merchandise! - http://bit.ly/DPStore\\n►Click HERE to join the exclusive Dude Perfect T-Shirt Club! http://bit.ly/DPTShirtClub\\n\\nMusic: GRiZ x Big Gigantic - “Good Times Roll”\\n►Click HERE to download: http://bit.ly/GoodTimesRollDP\\n\\n►http://mynameisgriz.com/\\n►http://facebook.com/mynameisGRiZ/\\n►http://soundcloud.com/griz\\n►http://twitter.com/mynameisgriz\\n►http://instagram.com/mynameisgriz/\\n\\nPlay our NEW iPhone game!\\n► PLAY Endless Ducker on iPhone -- http://smarturl.it/EndlessDucker\\n► PLAY Endless Ducker on Android -- http://smarturl.it/EndlessDucker\\n\\n► VISIT our NEW STORE - http://bit.ly/DPStore\\n► JOIN our NEWSLETTER - http://bit.ly/DPNewsletterEndCard\\n► WATCH our STEREOTYPES - http://bit.ly/StereotypesPlaylist\\n\\nIn between videos we hang out with you guys on Instagram, Snapchat, Twitter, and Facebook so pick your favorite one and hang with us there too!\\n\\nhttp://Instagram.com/DudePerfect\\nhttp://bit.ly/DudePerfectSnapchat\\nhttp://Twitter.com/DudePerfect\\nhttp://Facebook.com/DudePerfect\\n\\nDo you have a GO BIG mindset? \\nSee for yourself in our book Go Big. \\n►http://amzn.to/OYdZ2s\\n\\nA special thanks to those of you who play our iPhone Games and read our book. You guys are amazing and all the great things you tell us about the game and the book make those projects so worthwhile for us! \\n\\nDude Perfect GAME - http://smarturl.it/DPGameiPhone\\nDude Perfect BOOK - Go Big - http://amzn.to/OYdZ2s\\n\\nClick here if you want to learn more about Dude Perfect:\\nhttp://www.dudeperfect.com/blog-2/\\n\\nBonus points if you're still reading this! \\nComment: How much money you think is in the piggy bank!\\n\\nAs always...Go Big and God Bless!\\n- Your friends at Dude Perfect\\n\\nBusiness or Media, please contact us at: \\nDude@DudePerfect.com\\n\\n------------\\n\\n5 Best Friends and a Panda.\\nIf you like Sports + Comedy, come join the Dude Perfect team!\\n\\nBest known for trick shots, stereotypes, battles, bottle flips, ping pong shots and all around competitive fun, Dude Perfect prides ourselves in making the absolute best family-friendly entertainment possible! Welcome to the crew! \\n\\nPound it. Noggin. \\n- Dude Perfect\n",
      "Number of views are 20761480\n"
     ]
    }
   ],
   "source": [
    "maxview_sports = sports_df[\"views\"].max()\n",
    "maxview_sports_video = sports_df[sports_df[\"views\"]==maxview_sports].to_dict(orient='records')[0]\n",
    "\n",
    "print(\"Details of the most viewed sports video in the data is - \")\n",
    "print(\"Title -\", maxview_sports_video[\"title\"])\n",
    "print(\"Youtube channel -\", maxview_sports_video[\"channel_title\"])\n",
    "print(\"Description of video -\", maxview_sports_video[\"description\"])\n",
    "print(\"Number of views are \" + str(maxview_sports_video[\"views\"]))"
   ]
  },
  {
   "cell_type": "code",
   "execution_count": 50,
   "id": "94c4ffc3",
   "metadata": {},
   "outputs": [
    {
     "data": {
      "text/html": [
       "<div>\n",
       "<style scoped>\n",
       "    .dataframe tbody tr th:only-of-type {\n",
       "        vertical-align: middle;\n",
       "    }\n",
       "\n",
       "    .dataframe tbody tr th {\n",
       "        vertical-align: top;\n",
       "    }\n",
       "\n",
       "    .dataframe thead th {\n",
       "        text-align: right;\n",
       "    }\n",
       "</style>\n",
       "<table border=\"1\" class=\"dataframe\">\n",
       "  <thead>\n",
       "    <tr style=\"text-align: right;\">\n",
       "      <th></th>\n",
       "      <th>video_id</th>\n",
       "      <th>trending_date</th>\n",
       "      <th>title</th>\n",
       "      <th>channel_title</th>\n",
       "      <th>category_id</th>\n",
       "      <th>publish_time</th>\n",
       "      <th>tags</th>\n",
       "      <th>views</th>\n",
       "      <th>likes</th>\n",
       "      <th>dislikes</th>\n",
       "      <th>comment_count</th>\n",
       "      <th>thumbnail_link</th>\n",
       "      <th>comments_disabled</th>\n",
       "      <th>ratings_disabled</th>\n",
       "      <th>video_error_or_removed</th>\n",
       "      <th>description</th>\n",
       "      <th>category</th>\n",
       "    </tr>\n",
       "  </thead>\n",
       "  <tbody>\n",
       "    <tr>\n",
       "      <th>135</th>\n",
       "      <td>efpUCPITNmw</td>\n",
       "      <td>17.14.11</td>\n",
       "      <td>Russia Vs Argentina 0-1 - All Goals &amp; Highligh...</td>\n",
       "      <td>NugoBasilaiaa</td>\n",
       "      <td>17</td>\n",
       "      <td>2017-11-11</td>\n",
       "      <td>Russia Vs Argentina 0-1 - All Goals &amp; Highligh...</td>\n",
       "      <td>1641745</td>\n",
       "      <td>7643</td>\n",
       "      <td>702</td>\n",
       "      <td>1082</td>\n",
       "      <td>https://i.ytimg.com/vi/efpUCPITNmw/default.jpg</td>\n",
       "      <td>False</td>\n",
       "      <td>False</td>\n",
       "      <td>False</td>\n",
       "      <td>Russia Vs Argentina 0-1 - All Goals &amp; Highligh...</td>\n",
       "      <td>Sports</td>\n",
       "    </tr>\n",
       "    <tr>\n",
       "      <th>249</th>\n",
       "      <td>ysik6z44B1E</td>\n",
       "      <td>17.15.11</td>\n",
       "      <td>Stephanie McMahon questions Kurt Angle's leade...</td>\n",
       "      <td>WWE</td>\n",
       "      <td>17</td>\n",
       "      <td>2017-11-14</td>\n",
       "      <td>wwe|\"world wrestling entertainment\"|\"wrestling...</td>\n",
       "      <td>1574756</td>\n",
       "      <td>32539</td>\n",
       "      <td>843</td>\n",
       "      <td>3096</td>\n",
       "      <td>https://i.ytimg.com/vi/ysik6z44B1E/default.jpg</td>\n",
       "      <td>False</td>\n",
       "      <td>False</td>\n",
       "      <td>False</td>\n",
       "      <td>After SmackDown LIVE added John Cena to its Su...</td>\n",
       "      <td>Sports</td>\n",
       "    </tr>\n",
       "    <tr>\n",
       "      <th>381</th>\n",
       "      <td>PnYrL1rK-z8</td>\n",
       "      <td>17.15.11</td>\n",
       "      <td>Hardik Patel's video goes viral, Hardik terms ...</td>\n",
       "      <td>Tv9 Gujarati</td>\n",
       "      <td>17</td>\n",
       "      <td>2017-11-13</td>\n",
       "      <td>Gujarati|\"India\"|\"Gujarat News\"|\"Gujarati News...</td>\n",
       "      <td>42816</td>\n",
       "      <td>169</td>\n",
       "      <td>55</td>\n",
       "      <td>85</td>\n",
       "      <td>https://i.ytimg.com/vi/PnYrL1rK-z8/default.jpg</td>\n",
       "      <td>False</td>\n",
       "      <td>False</td>\n",
       "      <td>False</td>\n",
       "      <td>Hardik Patel's video goes viral, Hardik terms ...</td>\n",
       "      <td>Sports</td>\n",
       "    </tr>\n",
       "    <tr>\n",
       "      <th>488</th>\n",
       "      <td>ysik6z44B1E</td>\n",
       "      <td>17.16.11</td>\n",
       "      <td>Stephanie McMahon questions Kurt Angle's leade...</td>\n",
       "      <td>WWE</td>\n",
       "      <td>17</td>\n",
       "      <td>2017-11-14</td>\n",
       "      <td>wwe|\"world wrestling entertainment\"|\"wrestling...</td>\n",
       "      <td>1717414</td>\n",
       "      <td>34163</td>\n",
       "      <td>884</td>\n",
       "      <td>3175</td>\n",
       "      <td>https://i.ytimg.com/vi/ysik6z44B1E/default.jpg</td>\n",
       "      <td>False</td>\n",
       "      <td>False</td>\n",
       "      <td>False</td>\n",
       "      <td>After SmackDown LIVE added John Cena to its Su...</td>\n",
       "      <td>Sports</td>\n",
       "    </tr>\n",
       "    <tr>\n",
       "      <th>533</th>\n",
       "      <td>ExBnZv7mYys</td>\n",
       "      <td>17.16.11</td>\n",
       "      <td>England vs Brazil 0-0 - Extended Match Highlig...</td>\n",
       "      <td>GOLAZO TV</td>\n",
       "      <td>17</td>\n",
       "      <td>2017-11-14</td>\n",
       "      <td>England|\"vs\"|\"Brazil\"|\"0-0\"|\"Highlights\"|\"Goal...</td>\n",
       "      <td>749448</td>\n",
       "      <td>2680</td>\n",
       "      <td>244</td>\n",
       "      <td>513</td>\n",
       "      <td>https://i.ytimg.com/vi/ExBnZv7mYys/default.jpg</td>\n",
       "      <td>False</td>\n",
       "      <td>False</td>\n",
       "      <td>False</td>\n",
       "      <td>England vs Brazil 0-0 - Extended Match Highlig...</td>\n",
       "      <td>Sports</td>\n",
       "    </tr>\n",
       "    <tr>\n",
       "      <th>...</th>\n",
       "      <td>...</td>\n",
       "      <td>...</td>\n",
       "      <td>...</td>\n",
       "      <td>...</td>\n",
       "      <td>...</td>\n",
       "      <td>...</td>\n",
       "      <td>...</td>\n",
       "      <td>...</td>\n",
       "      <td>...</td>\n",
       "      <td>...</td>\n",
       "      <td>...</td>\n",
       "      <td>...</td>\n",
       "      <td>...</td>\n",
       "      <td>...</td>\n",
       "      <td>...</td>\n",
       "      <td>...</td>\n",
       "      <td>...</td>\n",
       "    </tr>\n",
       "    <tr>\n",
       "      <th>36216</th>\n",
       "      <td>v-dfygYIfLs</td>\n",
       "      <td>18.08.06</td>\n",
       "      <td>Old School Trick Shots | Dude Perfect</td>\n",
       "      <td>Dude Perfect</td>\n",
       "      <td>17</td>\n",
       "      <td>2018-06-04</td>\n",
       "      <td>dude perfect|\"dude perfect stereotypes\"|\"dude ...</td>\n",
       "      <td>11465487</td>\n",
       "      <td>407347</td>\n",
       "      <td>8769</td>\n",
       "      <td>35173</td>\n",
       "      <td>https://i.ytimg.com/vi/v-dfygYIfLs/default.jpg</td>\n",
       "      <td>False</td>\n",
       "      <td>False</td>\n",
       "      <td>False</td>\n",
       "      <td>It’s time to look old! Special thanks to the U...</td>\n",
       "      <td>Sports</td>\n",
       "    </tr>\n",
       "    <tr>\n",
       "      <th>36385</th>\n",
       "      <td>2B8kcxeYinI</td>\n",
       "      <td>18.09.06</td>\n",
       "      <td>7 Superstars who broke their face in the ring:...</td>\n",
       "      <td>WWE</td>\n",
       "      <td>17</td>\n",
       "      <td>2018-06-08</td>\n",
       "      <td>wwe|\"world wrestling entertainment\"|\"wrestling...</td>\n",
       "      <td>544977</td>\n",
       "      <td>11682</td>\n",
       "      <td>398</td>\n",
       "      <td>1139</td>\n",
       "      <td>https://i.ytimg.com/vi/2B8kcxeYinI/default.jpg</td>\n",
       "      <td>False</td>\n",
       "      <td>False</td>\n",
       "      <td>False</td>\n",
       "      <td>From John Cena to handsome Rusev, these Supers...</td>\n",
       "      <td>Sports</td>\n",
       "    </tr>\n",
       "    <tr>\n",
       "      <th>36920</th>\n",
       "      <td>RXOUAfGaZZo</td>\n",
       "      <td>18.12.06</td>\n",
       "      <td>Incredible displays of barehanded strength: WW...</td>\n",
       "      <td>WWE</td>\n",
       "      <td>17</td>\n",
       "      <td>2018-06-11</td>\n",
       "      <td>wwe|\"world wrestling entertainment\"|\"wrestling...</td>\n",
       "      <td>523993</td>\n",
       "      <td>12624</td>\n",
       "      <td>538</td>\n",
       "      <td>1077</td>\n",
       "      <td>https://i.ytimg.com/vi/RXOUAfGaZZo/default.jpg</td>\n",
       "      <td>False</td>\n",
       "      <td>False</td>\n",
       "      <td>False</td>\n",
       "      <td>Any Superstar with two hands has a chance to s...</td>\n",
       "      <td>Sports</td>\n",
       "    </tr>\n",
       "    <tr>\n",
       "      <th>37078</th>\n",
       "      <td>0_K4z_7fvGA</td>\n",
       "      <td>18.13.06</td>\n",
       "      <td>Sami Zayn challenges Bobby Lashley to a milita...</td>\n",
       "      <td>WWE</td>\n",
       "      <td>17</td>\n",
       "      <td>2018-06-12</td>\n",
       "      <td>wwe|\"world wrestling entertainment\"|\"wrestling...</td>\n",
       "      <td>1038768</td>\n",
       "      <td>15162</td>\n",
       "      <td>1196</td>\n",
       "      <td>1522</td>\n",
       "      <td>https://i.ytimg.com/vi/0_K4z_7fvGA/default.jpg</td>\n",
       "      <td>False</td>\n",
       "      <td>False</td>\n",
       "      <td>False</td>\n",
       "      <td>The disrespectful Sami Zayn tries to put Bobby...</td>\n",
       "      <td>Sports</td>\n",
       "    </tr>\n",
       "    <tr>\n",
       "      <th>37301</th>\n",
       "      <td>3MTCSll3KGU</td>\n",
       "      <td>18.14.06</td>\n",
       "      <td>Rusev vs. Samoa Joe - with Special Guest Refer...</td>\n",
       "      <td>WWE</td>\n",
       "      <td>17</td>\n",
       "      <td>2018-06-13</td>\n",
       "      <td>wwe|\"world wrestling entertainment\"|\"wrestling...</td>\n",
       "      <td>770873</td>\n",
       "      <td>13316</td>\n",
       "      <td>552</td>\n",
       "      <td>1175</td>\n",
       "      <td>https://i.ytimg.com/vi/3MTCSll3KGU/default.jpg</td>\n",
       "      <td>False</td>\n",
       "      <td>False</td>\n",
       "      <td>False</td>\n",
       "      <td>The Miz serves as special guest referee in thi...</td>\n",
       "      <td>Sports</td>\n",
       "    </tr>\n",
       "  </tbody>\n",
       "</table>\n",
       "<p>731 rows × 17 columns</p>\n",
       "</div>"
      ],
      "text/plain": [
       "          video_id trending_date  \\\n",
       "135    efpUCPITNmw      17.14.11   \n",
       "249    ysik6z44B1E      17.15.11   \n",
       "381    PnYrL1rK-z8      17.15.11   \n",
       "488    ysik6z44B1E      17.16.11   \n",
       "533    ExBnZv7mYys      17.16.11   \n",
       "...            ...           ...   \n",
       "36216  v-dfygYIfLs      18.08.06   \n",
       "36385  2B8kcxeYinI      18.09.06   \n",
       "36920  RXOUAfGaZZo      18.12.06   \n",
       "37078  0_K4z_7fvGA      18.13.06   \n",
       "37301  3MTCSll3KGU      18.14.06   \n",
       "\n",
       "                                                   title  channel_title  \\\n",
       "135    Russia Vs Argentina 0-1 - All Goals & Highligh...  NugoBasilaiaa   \n",
       "249    Stephanie McMahon questions Kurt Angle's leade...            WWE   \n",
       "381    Hardik Patel's video goes viral, Hardik terms ...   Tv9 Gujarati   \n",
       "488    Stephanie McMahon questions Kurt Angle's leade...            WWE   \n",
       "533    England vs Brazil 0-0 - Extended Match Highlig...      GOLAZO TV   \n",
       "...                                                  ...            ...   \n",
       "36216              Old School Trick Shots | Dude Perfect   Dude Perfect   \n",
       "36385  7 Superstars who broke their face in the ring:...            WWE   \n",
       "36920  Incredible displays of barehanded strength: WW...            WWE   \n",
       "37078  Sami Zayn challenges Bobby Lashley to a milita...            WWE   \n",
       "37301  Rusev vs. Samoa Joe - with Special Guest Refer...            WWE   \n",
       "\n",
       "       category_id publish_time  \\\n",
       "135             17   2017-11-11   \n",
       "249             17   2017-11-14   \n",
       "381             17   2017-11-13   \n",
       "488             17   2017-11-14   \n",
       "533             17   2017-11-14   \n",
       "...            ...          ...   \n",
       "36216           17   2018-06-04   \n",
       "36385           17   2018-06-08   \n",
       "36920           17   2018-06-11   \n",
       "37078           17   2018-06-12   \n",
       "37301           17   2018-06-13   \n",
       "\n",
       "                                                    tags     views   likes  \\\n",
       "135    Russia Vs Argentina 0-1 - All Goals & Highligh...   1641745    7643   \n",
       "249    wwe|\"world wrestling entertainment\"|\"wrestling...   1574756   32539   \n",
       "381    Gujarati|\"India\"|\"Gujarat News\"|\"Gujarati News...     42816     169   \n",
       "488    wwe|\"world wrestling entertainment\"|\"wrestling...   1717414   34163   \n",
       "533    England|\"vs\"|\"Brazil\"|\"0-0\"|\"Highlights\"|\"Goal...    749448    2680   \n",
       "...                                                  ...       ...     ...   \n",
       "36216  dude perfect|\"dude perfect stereotypes\"|\"dude ...  11465487  407347   \n",
       "36385  wwe|\"world wrestling entertainment\"|\"wrestling...    544977   11682   \n",
       "36920  wwe|\"world wrestling entertainment\"|\"wrestling...    523993   12624   \n",
       "37078  wwe|\"world wrestling entertainment\"|\"wrestling...   1038768   15162   \n",
       "37301  wwe|\"world wrestling entertainment\"|\"wrestling...    770873   13316   \n",
       "\n",
       "       dislikes  comment_count  \\\n",
       "135         702           1082   \n",
       "249         843           3096   \n",
       "381          55             85   \n",
       "488         884           3175   \n",
       "533         244            513   \n",
       "...         ...            ...   \n",
       "36216      8769          35173   \n",
       "36385       398           1139   \n",
       "36920       538           1077   \n",
       "37078      1196           1522   \n",
       "37301       552           1175   \n",
       "\n",
       "                                       thumbnail_link  comments_disabled  \\\n",
       "135    https://i.ytimg.com/vi/efpUCPITNmw/default.jpg              False   \n",
       "249    https://i.ytimg.com/vi/ysik6z44B1E/default.jpg              False   \n",
       "381    https://i.ytimg.com/vi/PnYrL1rK-z8/default.jpg              False   \n",
       "488    https://i.ytimg.com/vi/ysik6z44B1E/default.jpg              False   \n",
       "533    https://i.ytimg.com/vi/ExBnZv7mYys/default.jpg              False   \n",
       "...                                               ...                ...   \n",
       "36216  https://i.ytimg.com/vi/v-dfygYIfLs/default.jpg              False   \n",
       "36385  https://i.ytimg.com/vi/2B8kcxeYinI/default.jpg              False   \n",
       "36920  https://i.ytimg.com/vi/RXOUAfGaZZo/default.jpg              False   \n",
       "37078  https://i.ytimg.com/vi/0_K4z_7fvGA/default.jpg              False   \n",
       "37301  https://i.ytimg.com/vi/3MTCSll3KGU/default.jpg              False   \n",
       "\n",
       "       ratings_disabled  video_error_or_removed  \\\n",
       "135               False                   False   \n",
       "249               False                   False   \n",
       "381               False                   False   \n",
       "488               False                   False   \n",
       "533               False                   False   \n",
       "...                 ...                     ...   \n",
       "36216             False                   False   \n",
       "36385             False                   False   \n",
       "36920             False                   False   \n",
       "37078             False                   False   \n",
       "37301             False                   False   \n",
       "\n",
       "                                             description category  \n",
       "135    Russia Vs Argentina 0-1 - All Goals & Highligh...   Sports  \n",
       "249    After SmackDown LIVE added John Cena to its Su...   Sports  \n",
       "381    Hardik Patel's video goes viral, Hardik terms ...   Sports  \n",
       "488    After SmackDown LIVE added John Cena to its Su...   Sports  \n",
       "533    England vs Brazil 0-0 - Extended Match Highlig...   Sports  \n",
       "...                                                  ...      ...  \n",
       "36216  It’s time to look old! Special thanks to the U...   Sports  \n",
       "36385  From John Cena to handsome Rusev, these Supers...   Sports  \n",
       "36920  Any Superstar with two hands has a chance to s...   Sports  \n",
       "37078  The disrespectful Sami Zayn tries to put Bobby...   Sports  \n",
       "37301  The Miz serves as special guest referee in thi...   Sports  \n",
       "\n",
       "[731 rows x 17 columns]"
      ]
     },
     "execution_count": 50,
     "metadata": {},
     "output_type": "execute_result"
    }
   ],
   "source": [
    "sports_df"
   ]
  },
  {
   "cell_type": "markdown",
   "id": "9ec23dd2",
   "metadata": {},
   "source": [
    "#### Obervation 9: Brief analysis on Movies based videos"
   ]
  },
  {
   "cell_type": "code",
   "execution_count": 51,
   "id": "f2aef413",
   "metadata": {},
   "outputs": [],
   "source": [
    "movies_df = india_df[india_df['category']=='Movies']"
   ]
  },
  {
   "cell_type": "code",
   "execution_count": 52,
   "id": "c779d6bb",
   "metadata": {},
   "outputs": [
    {
     "name": "stdout",
     "output_type": "stream",
     "text": [
      "Details of the most viewed movie in the data is - \n",
      "Title - Golak Bugni Bank Te Batua Full Movie (HD) | Harish Verma | Simi Chahal | Superhit Punjabi Movies\n",
      "Youtube channel - Rhythm Boyz\n",
      "Description of video - Rhythm Boyz Entertainment & Hayre Omjee Studio Presents:GOLAK BUGNI BANK TE BATUAReleasing on 13th April 2018Directed by - Ksshitij ChaudharyProduced by - Karaj Gill & Talwinder HayreCo-producers - Jaspal Singh Sandhu, Amiek Virk, Munish SahniStory Screenplay : Dheeraj Rattan Dialogue : Rakesh Dhawan Additional Dialogue : Surmeet Maavi Production Designer : Kazi Rafik Ali and Liyakat Ali KhanDOP : Parixit Warrier Editor : Rikki KajleChief Assistant Director : Deepak ThaperCostume Designer: Nitasha Bhateja Roy Music & Background Score : Jatinder shah Singers : Amrinder Gill, Sunidhi Chauhan, Bir Singh, Gurshabad, Gurpreet Maan, Bikk DhillonLyricist : Happy Raikoti, Bir Singh, Harmanjeet, Sabir Ali Sabir, Bikk Dhillon, Sidhu SarabjitArt Director : Dipankar Mondal Post Production Controller : Varun Bansal Line Producer : Virasat Films Visual promotion : Hashtag Studios Poster Design : Vitamin VPoster Stills : Harjeet SinghMovie Stills : Dashmesh Arts, Manpreet Singh Grewal, Jit Sandhu, Maninder SinghFollow us on - YouTube - http://bit.ly/RhythmBoyzFacebook - https://m.facebook.com/RBzEnt/Instagram - https://www.instagram.com/rhythmboyzentertainmentDigitally Powered by One Digital Entertainment [https://www.facebook.com/onedigitalentertainment][http://www.onedigitalentertainment.com]\n",
      "Number of views are 7398655\n"
     ]
    }
   ],
   "source": [
    "maxview_movies = movies_df[\"views\"].max()\n",
    "maxview_movies_video = movies_df[movies_df[\"views\"]==maxview_movies].to_dict(orient='records')[0]\n",
    "\n",
    "print(\"Details of the most viewed movie in the data is - \")\n",
    "print(\"Title -\", maxview_movies_video[\"title\"])\n",
    "print(\"Youtube channel -\", maxview_movies_video[\"channel_title\"])\n",
    "print(\"Description of video -\", maxview_movies_video[\"description\"])\n",
    "print(\"Number of views are \" + str(maxview_movies_video[\"views\"]))"
   ]
  },
  {
   "cell_type": "code",
   "execution_count": 54,
   "id": "374e54a6",
   "metadata": {},
   "outputs": [
    {
     "name": "stdout",
     "output_type": "stream",
     "text": [
      "Details of the most viewed movie in the data is - \n",
      "Title - Golak Bugni Bank Te Batua Full Movie (HD) | Harish Verma | Simi Chahal | Superhit Punjabi Movies\n",
      "Youtube channel - Rhythm Boyz\n",
      "Description of video - Rhythm Boyz Entertainment & Hayre Omjee Studio Presents:GOLAK BUGNI BANK TE BATUAReleasing on 13th April 2018Directed by - Ksshitij ChaudharyProduced by - Karaj Gill & Talwinder HayreCo-producers - Jaspal Singh Sandhu, Amiek Virk, Munish SahniStory Screenplay : Dheeraj Rattan Dialogue : Rakesh Dhawan Additional Dialogue : Surmeet Maavi Production Designer : Kazi Rafik Ali and Liyakat Ali KhanDOP : Parixit Warrier Editor : Rikki KajleChief Assistant Director : Deepak ThaperCostume Designer: Nitasha Bhateja Roy Music & Background Score : Jatinder shah Singers : Amrinder Gill, Sunidhi Chauhan, Bir Singh, Gurshabad, Gurpreet Maan, Bikk DhillonLyricist : Happy Raikoti, Bir Singh, Harmanjeet, Sabir Ali Sabir, Bikk Dhillon, Sidhu SarabjitArt Director : Dipankar Mondal Post Production Controller : Varun Bansal Line Producer : Virasat Films Visual promotion : Hashtag Studios Poster Design : Vitamin VPoster Stills : Harjeet SinghMovie Stills : Dashmesh Arts, Manpreet Singh Grewal, Jit Sandhu, Maninder SinghFollow us on - YouTube - http://bit.ly/RhythmBoyzFacebook - https://m.facebook.com/RBzEnt/Instagram - https://www.instagram.com/rhythmboyzentertainmentDigitally Powered by One Digital Entertainment [https://www.facebook.com/onedigitalentertainment][http://www.onedigitalentertainment.com]\n",
      "Number of views are 77789\n"
     ]
    }
   ],
   "source": [
    "maxlike_movies = movies_df[\"likes\"].max()\n",
    "maxlike_movies_video = movies_df[movies_df[\"likes\"]==maxlike_movies].to_dict(orient='records')[0]\n",
    "\n",
    "print(\"Details of the most viewed movie in the data is - \")\n",
    "print(\"Title -\", maxlike_movies_video[\"title\"])\n",
    "print(\"Youtube channel -\", maxlike_movies_video[\"channel_title\"])\n",
    "print(\"Description of video -\", maxlike_movies_video[\"description\"])\n",
    "print(\"Number of views are \" + str(maxlike_movies_video[\"likes\"]))"
   ]
  },
  {
   "cell_type": "code",
   "execution_count": null,
   "id": "a635986f",
   "metadata": {},
   "outputs": [],
   "source": []
  }
 ],
 "metadata": {
  "kernelspec": {
   "display_name": "Python 3",
   "language": "python",
   "name": "python3"
  },
  "language_info": {
   "codemirror_mode": {
    "name": "ipython",
    "version": 3
   },
   "file_extension": ".py",
   "mimetype": "text/x-python",
   "name": "python",
   "nbconvert_exporter": "python",
   "pygments_lexer": "ipython3",
   "version": "3.8.8"
  }
 },
 "nbformat": 4,
 "nbformat_minor": 5
}
